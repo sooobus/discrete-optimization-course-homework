{
 "cells": [
  {
   "cell_type": "markdown",
   "metadata": {},
   "source": [
    "# Задание по курсу «Дискретная оптимизация», МФТИ, весна 2017"
   ]
  },
  {
   "cell_type": "markdown",
   "metadata": {},
   "source": [
    "## Задача 2-1. Применяем простейший локальный поиск.\n",
    "\n",
    "В этой задаче Вам предлагается попробовать стандартную технику локального поиска (local search) в применении к задаче о сбалансированном разбиении графа. Мы будем рассматривать безвесовый вариант задачи с параметром балансировки $\\alpha=\\frac{1}{2}$:\n",
    "\n",
    "**Даны:**\n",
    "* $G=(V,E)$ — граф без весов на рёбрах\n",
    "\n",
    "**Найти:**\n",
    "* Разбиение $V=V'\\sqcup V''$, такое, что $V'=\\lfloor |V|/2 \\rfloor$ и число рёбер между $V'$ и $V''$ минимально возможное.\n",
    "\n",
    "Сделайте следующее:\n",
    "* [Скачайте](http://mat.gsia.cmu.edu/COLOR/instances.html#XXMYC) файлы mycielX.col  (`for X in range(1,8)`).  (Если интересно, откуда такие графы берутся и чем интересны, см. конструкцию Зыкова—Мыцельского [здесь](https://docs.com/dainiak/3327).)\n",
    "* Для каждого из графов найдите локальным поиском локально минимальное (по количеству рёбер между частями) разбиение вершин графа на две части, мощности которых отличаются не более чем на единицу. \n",
    "* Ваша функция `basic_local_search` должна принимать на вход граф в формате, предоставляемом функцией `read_col_file`, и возвращать найденное локально минимальное разбиение просто как множество либо список вершин, лежащих в одной любой из двух компонент разбиения."
   ]
  },
  {
   "cell_type": "code",
   "execution_count": 1,
   "metadata": {
    "collapsed": true
   },
   "outputs": [],
   "source": [
    "def read_col_file(filename):\n",
    "    with open(filename, 'r') as file:\n",
    "        vertices, edges = set(), set()\n",
    "        for line in file:\n",
    "            line = line.strip()\n",
    "            if line.startswith('p'):\n",
    "                vertices = set(range(1, int(line.split()[-2]) + 1))\n",
    "            elif line.startswith('e'):\n",
    "                edges.add(tuple(map(int, line.split()[-2:])))\n",
    "        return (vertices, edges)"
   ]
  },
  {
   "cell_type": "code",
   "execution_count": 33,
   "metadata": {
    "collapsed": false
   },
   "outputs": [],
   "source": [
    "import itertools\n",
    "import random"
   ]
  },
  {
   "cell_type": "code",
   "execution_count": 52,
   "metadata": {
    "collapsed": false
   },
   "outputs": [],
   "source": [
    "def find_neighbourhood(v, cur):\n",
    "    ans = []\n",
    "    for v_ in cur:\n",
    "        for u in v - cur:\n",
    "            ans.append((cur - set([v_])) | set([u]))\n",
    "    return ans\n",
    "    \n",
    "def eval_neighbour(nei, e, v):\n",
    "    s = 0\n",
    "    for edge in e:\n",
    "        if (edge[0] in nei and edge[1] not in nei) or (edge[1] in nei and edge[0] not in nei):\n",
    "            s += 1\n",
    "    return s\n",
    "\n",
    "def find_best_neighbour(neighbourhood, e, v):\n",
    "    ans = neighbourhood[0]\n",
    "    best_s = eval_neighbour(neighbourhood[0], e, v)\n",
    "    for nei in neighbourhood[1:]:\n",
    "        ev = eval_neighbour(nei, e, v)\n",
    "        if ev < best_s:\n",
    "            best_s = ev\n",
    "            ans = nei\n",
    "    return (set(ans), best_s)\n",
    "        \n",
    "def basic_local_search(graph):\n",
    "    V = graph[0]\n",
    "    E = graph[1]\n",
    "    vprime = set([])\n",
    "    new = set(random.sample(V, len(V) // 2))\n",
    "    ceval = 0\n",
    "    oldval = 1\n",
    "    iterations = 0\n",
    "    while oldval != ceval and iterations < 1000:\n",
    "        #print(new)\n",
    "        vprime = new\n",
    "        oldval = ceval\n",
    "        neig = find_neighbourhood(V, vprime)\n",
    "        new, ceval = find_best_neighbour(neig, E, V)\n",
    "        iterations += 1\n",
    "    print(ceval)\n",
    "    if oldval == ceval:\n",
    "        print(\"It's the local minimum!\")\n",
    "    return vprime"
   ]
  },
  {
   "cell_type": "code",
   "execution_count": null,
   "metadata": {
    "collapsed": false
   },
   "outputs": [
    {
     "name": "stdout",
     "output_type": "stream",
     "text": [
      "8\n",
      "It's the local minimum!\n",
      "{8, 2, 11, 6, 7}\n",
      "29\n",
      "It's the local minimum!\n",
      "{1, 2, 3, 4, 5, 6, 8, 13, 15, 16, 17}\n",
      "91\n",
      "It's the local minimum!\n",
      "{2, 3, 5, 8, 11, 14, 19, 25, 28, 29, 30, 31, 32, 33, 36, 37, 39, 40, 41, 42, 43, 44, 47}\n",
      "298\n",
      "It's the local minimum!\n",
      "{1, 3, 5, 6, 8, 10, 14, 15, 17, 18, 19, 20, 21, 25, 26, 27, 28, 30, 32, 33, 34, 36, 38, 41, 43, 46, 48, 50, 52, 57, 58, 60, 61, 62, 63, 65, 66, 67, 68, 69, 72, 74, 75, 81, 85, 93, 94}\n"
     ]
    }
   ],
   "source": [
    "for i in range(3, 8):\n",
    "    g = read_col_file(\"myciel\" + str(i) + \".col\")\n",
    "    print(basic_local_search(g))"
   ]
  }
 ],
 "metadata": {
  "kernelspec": {
   "display_name": "Python 3",
   "language": "python",
   "name": "python3"
  },
  "language_info": {
   "codemirror_mode": {
    "name": "ipython",
    "version": 3
   },
   "file_extension": ".py",
   "mimetype": "text/x-python",
   "name": "python",
   "nbconvert_exporter": "python",
   "pygments_lexer": "ipython3",
   "version": "3.5.1"
  }
 },
 "nbformat": 4,
 "nbformat_minor": 2
}
