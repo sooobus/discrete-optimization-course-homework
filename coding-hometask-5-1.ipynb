{
 "cells": [
  {
   "cell_type": "markdown",
   "metadata": {},
   "source": [
    "## Задача 5-1. A\\* поиск в задаче о кратчайших путях.\n",
    "\n",
    "В этой задаче Вам предлагается реализовать поиск кратчайших путей в графе с помощью A\\*-поиска с использованием эвристической функции («потенциала»), основанном на landmarks. Теоретические основы можно посмотреть [здесь](http://logic.pdmi.ras.ru/midas/sites/default/files/midas-werneck.pdf), слайды 20—36.\n",
    "\n",
    "Вам предлагается скачать [отсюда](http://www.diag.uniroma1.it/challenge9/download.shtml) файлы “Travel time graph” и “Coordinates” для штата Флорида. Для Вашего удобства они также размещены в архиве `florida.7z` в настоящем репозитории на GitHub.\n",
    "\n",
    "Функции `read_node_coords` и `read_arcs` возвращают соответственно координаты вершин графа (отнормированные; координаты нужны только для обеспечения возможности выбора landmarks “по периметру графа”) и структура дуг графа."
   ]
  },
  {
   "cell_type": "code",
   "execution_count": 1,
   "metadata": {
    "collapsed": true
   },
   "outputs": [],
   "source": [
    "import math\n",
    "from typing import List, Dict, Tuple\n",
    "from collections import namedtuple, defaultdict\n",
    "Coords = namedtuple('Coords', ['x', 'y'])\n",
    "\n",
    "def read_node_coords(filename='USA-road-d.FLA.co') -> List[int]:\n",
    "    node_coords = []\n",
    "    \n",
    "    with open(filename, 'r') as coord_file:\n",
    "        for line in coord_file:\n",
    "            if line.startswith('v '):\n",
    "                node_number, x, y = map(int, line.split()[1:])\n",
    "                node_coords.append(Coords(x, y))\n",
    "    \n",
    "    minx = min(c.x for c in node_coords)\n",
    "    miny = min(c.y for c in node_coords)\n",
    "    for i, c in enumerate(node_coords):\n",
    "        node_coords[i] = Coords(c.x-minx, c.y-miny)\n",
    "    \n",
    "    return node_coords\n",
    "\n",
    "\n",
    "def read_arcs(filename='USA-road-t.FLA.gr') -> Dict[int, Dict[int, float]]:\n",
    "    adjacency_lists = defaultdict(dict)\n",
    "    \n",
    "    with open(filename, 'r') as coord_file:\n",
    "        for line in coord_file:\n",
    "            if line.startswith('a '):\n",
    "                node_from, node_to, weight = map(int, line.split()[1:])\n",
    "                adjacency_lists[node_from-1][node_to-1] = weight\n",
    "                \n",
    "    return adjacency_lists"
   ]
  },
  {
   "cell_type": "markdown",
   "metadata": {},
   "source": [
    "Реализуйте процедуру `good_old_dijkstra`, которая для пары номеров вершин графа ищет кратчайший путь между ними и возвращает список номеров вершин, образующих оптимальный путь и его длину."
   ]
  },
  {
   "cell_type": "code",
   "execution_count": 2,
   "metadata": {
    "collapsed": false
   },
   "outputs": [],
   "source": [
    "import queue\n",
    "\n",
    "def good_old_dijkstra(adjacency_lists, node_from, node_to=None):\n",
    "    q = queue.PriorityQueue()\n",
    "    p = {v: -1 for v in adjacency_lists}\n",
    "    d = {v: float('inf') for v in adjacency_lists}\n",
    "    d[node_from] = 0\n",
    "    q.put((0, node_from))\n",
    "    while not q.empty():\n",
    "        dist, u = q.get()\n",
    "        for v in adjacency_lists[u]:\n",
    "            edge_len = adjacency_lists[u][v]\n",
    "            if dist + edge_len < d[v]:\n",
    "                d[v] = dist + edge_len\n",
    "                p[v] = u\n",
    "                q.put((dist + edge_len, v))\n",
    "    if node_to is None:\n",
    "        return (p, d)\n",
    "    start = node_to\n",
    "    path = []\n",
    "    while start != -1:\n",
    "        path.append(start)\n",
    "        start = p[start]\n",
    "    return (reversed(path), d[node_to])"
   ]
  },
  {
   "cell_type": "markdown",
   "metadata": {},
   "source": [
    "Реализуйте тройку процедур `choose_landmarks`, `precalculate_landmark_distances` и `a_star_with_landmarks`. Процедура `choose_landmarks` выбирает нужное количество специальных вершин графа — этот выбор делается равномерным выбором по периметру графа (см. слайд 30 в [презентации](http://logic.pdmi.ras.ru/midas/sites/default/files/midas-werneck.pdf)). Процедура `precalculate_landmark_distances` для каждой вершины из заданного набора с помощью обычного алгоритма Дейкстры вычисляет расстояния до всех вершин графа. Эта информация затем используется в `a_star_with_landmarks` для ускорения поиска кратчайшего пути."
   ]
  },
  {
   "cell_type": "code",
   "execution_count": 9,
   "metadata": {
    "collapsed": false
   },
   "outputs": [],
   "source": [
    "import numpy as np\n",
    "def choose_landmarks(node_coords, num_landmarks=15):\n",
    "    xs = np.array([v.x for v in node_coords])\n",
    "    ys = np.array([v.y for v in node_coords])\n",
    "    \n",
    "    mean_x = np.mean(xs)\n",
    "    mean_y = np.mean(ys)\n",
    "    mean = np.array([mean_x, mean_y])\n",
    "    sectors = [[] for i in range(num_landmarks)]\n",
    "    for i, v in enumerate(node_coords):\n",
    "        alpha = math.atan2(v.x - mean_x, v.y - mean_y)\n",
    "        while alpha < 0:\n",
    "            alpha += 2 * math.pi\n",
    "        sect_coord = int(alpha * num_landmarks / (2 * math.pi))\n",
    "        sectors[sect_coord].append((np.array(v), i))\n",
    "    landmarks = []\n",
    "    for sect in sectors:\n",
    "        chosen = sector[0][0]\n",
    "        for v, i in sect:\n",
    "            if np.linalg.norm(v - mean) < np.linalg.norm(chosen - mean):\n",
    "                chosen = v\n",
    "        landmarks.append(i)\n",
    "    return landmarks\n",
    "\n",
    "def precalculate_landmark_distances(landmarks, adjacency_lists):\n",
    "    return {i: good_old_dijkstra(adjacency_lists, landmarks[i], None)[1] for i in range(len(landmarks))}\n",
    "\n",
    "def a_star_with_landmarks(adjacency_lists, node_from, node_to, landmark_distances):\n",
    "    q = queue.PriorityQueue()\n",
    "    p = {v: -1 for v in adjacency_lists}\n",
    "    d = {v: float('inf') for v in adjacency_lists}\n",
    "    real_d = {}\n",
    "    d[node_from] = 0\n",
    "    real_d[node_from] = 0\n",
    "    q.put((0, node_from))\n",
    "    while not q.empty():\n",
    "        dist, cur = q.get()\n",
    "        if cur == node_to:\n",
    "            break\n",
    "        for v in adjacency_lists[cur]:\n",
    "            edge_len = adjacency_lists[cur][v]\n",
    "            pi_v = 0\n",
    "            for L in landmark_distances:\n",
    "                pi_v = max(res, abs(landmark_distances[L][v] - landmark_distances[L][node_to]))\n",
    "            if real_d[cur] + edge_len + pi_v < d[v]:\n",
    "                d[v] = real_d[cur] + edge_len + pi_v\n",
    "                real_d[v] = real_d[cur] + edge_len\n",
    "                p[v] = cur\n",
    "                q.put((d[v], v))\n",
    "    cur = node_to\n",
    "    path = []\n",
    "    while cur != -1:\n",
    "        path.append(cur)\n",
    "        cur = p[cur]\n",
    "    return (reversed(path), real_d[node_to])"
   ]
  },
  {
   "cell_type": "code",
   "execution_count": 6,
   "metadata": {
    "collapsed": true
   },
   "outputs": [],
   "source": [
    "import time\n",
    "from random import randrange\n",
    "\n",
    "def run_all():\n",
    "    node_coords = read_node_coords()\n",
    "    adjacency_lists = read_arcs()\n",
    "    num_nodes = len(node_coords)\n",
    "    \n",
    "    time_start = time.monotonic()\n",
    "    landmark_distances = precalculate_landmark_distances(choose_landmarks(node_coords), adjacency_lists)\n",
    "    print('Precalculation done in {:.2} seconds.'.format(time.monotonic() - time_start))\n",
    "    \n",
    "    time_dijkstra = 0\n",
    "    time_a_star = 0\n",
    "    \n",
    "    num_tests = 1\n",
    "    for _ in range(num_tests):\n",
    "        node_from, node_to = randrange(num_nodes), randrange(num_nodes)\n",
    "        time_start = time.monotonic()\n",
    "        good_old_dijkstra(adjacency_lists, node_from, node_to)\n",
    "        time_dijkstra += time.monotonic()-time_start\n",
    "        time_start = time.monotonic()\n",
    "        a_star_with_landmarks(adjacency_lists, node_from, node_to, landmark_distances)\n",
    "        time_a_star += time.monotonic()-time_start\n",
    "    print('Time elapsed in {} test: {:.2} second for A* vs. {:.2} seconds for Dijkstra.'.format(num_tests, time_a_star, time_dijkstra))"
   ]
  },
  {
   "cell_type": "code",
   "execution_count": 7,
   "metadata": {
    "collapsed": false
   },
   "outputs": [
    {
     "name": "stdout",
     "output_type": "stream",
     "text": [
      "Precalculation done in 2e+02 seconds.\n",
      "Time elapsed in 1 test: 2.6 second for A* vs. 1.3e+01 seconds for Dijkstra.\n"
     ]
    }
   ],
   "source": [
    "run_all()"
   ]
  }
 ],
 "metadata": {
  "kernelspec": {
   "display_name": "Python 3",
   "language": "python",
   "name": "python3"
  },
  "language_info": {
   "codemirror_mode": {
    "name": "ipython",
    "version": 3
   },
   "file_extension": ".py",
   "mimetype": "text/x-python",
   "name": "python",
   "nbconvert_exporter": "python",
   "pygments_lexer": "ipython3",
   "version": "3.6.0"
  }
 },
 "nbformat": 4,
 "nbformat_minor": 1
}
