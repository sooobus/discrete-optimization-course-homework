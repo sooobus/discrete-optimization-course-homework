{
 "cells": [
  {
   "cell_type": "markdown",
   "metadata": {
    "deletable": true,
    "editable": true
   },
   "source": [
    "# Задание по курсу «Дискретная оптимизация», МФТИ, весна 2017"
   ]
  },
  {
   "cell_type": "markdown",
   "metadata": {
    "deletable": true,
    "editable": true
   },
   "source": [
    "## Задача 1-1\n",
    "## Учимся переводить между decision/evaluation/search на примере Bin Packing\n",
    "\n",
    "**Даны:** \n",
    "* $[w_1, \\dots , w_k], w_i \\in [0, 1]$ — веса грузов  \n",
    "* $n_{\\text{bins}}$ — количество корзин грузоподъемностью 1.\n",
    "\n",
    "Предполагается, что функция `solve_bp_decision(weights, n_bins)` решает «распознавательный» (decision) вариант задачи bin packing. На вход ей подаётся список весов и число корзин. Функция возвращает булевский ответ на вопрос «можно ли заданные веса раскидать по не более чем `n_bins` контейнерам? \n",
    "\n",
    "Напишите содержимое функции `solve_bp_evaluation`, которая возвращает оптимальное число корзин (решает evaluation variant задачи bin packing). \n",
    "\n",
    "Затем напишите содержимое функции `solve_bp_search`, которая возвращает список номеров корзин, которые при каком-нибудь оптимальном распределении присваиваются весам из списка `weights` (корзины нумеруются с единицы). \n",
    "\n",
    "Каждая из следующих функций должна вызывать предыдущую не более чем полиномиальное число раз."
   ]
  },
  {
   "cell_type": "code",
   "execution_count": 32,
   "metadata": {
    "collapsed": false
   },
   "outputs": [],
   "source": [
    "def solve_bp_decision(weights: list, n_bins: int) -> bool:\n",
    "    def able_to_pack(weights: list, bin_capacities) -> bool:\n",
    "        return weights == [] or any( \n",
    "            able_to_pack( weights[:-1], bin_capacities[:i] + [capacity - weights[-1]] + bin_capacities[(i + 1):] ) \n",
    "            for i, capacity in enumerate(bin_capacities) if capacity >= weights[-1] \n",
    "        )\n",
    "\n",
    "    return able_to_pack( sorted(weights), [1.0] * n_bins )\n",
    "\n",
    "# To test this, run:\n",
    "#solve_bp_decision([0.8, 0.09, 0.4, 0.7], 2)\n",
    "#solve_bp_decision([2, 0.09, 0.4, 0.7], 3)\n",
    "#for i in range(10):\n",
    "#    print(i, solve_bp_decision([0.1, 0.2, 0.3, 0.5, 0.6, 0.7, 0.8, 0.9, 0.95], i))"
   ]
  },
  {
   "cell_type": "code",
   "execution_count": 37,
   "metadata": {
    "collapsed": true
   },
   "outputs": [],
   "source": [
    "def solve_bp_evaluation(weights: list) -> int:\n",
    "    l = 0\n",
    "    r = len(weights)\n",
    "    while(l + 1 < r):\n",
    "        mid = (l + r) // 2\n",
    "        if solve_bp_decision(weights, mid):\n",
    "            r = mid\n",
    "        else:\n",
    "            l = mid\n",
    "    return r"
   ]
  },
  {
   "cell_type": "code",
   "execution_count": 51,
   "metadata": {
    "collapsed": false
   },
   "outputs": [
    {
     "name": "stdout",
     "output_type": "stream",
     "text": [
      "6\n",
      ]
    },
    {
     "data": {
      "text/plain": [
       "[1, 1, 1, 2, 3, 4, 5, 6, 7]"
      ]
     },
     "execution_count": 51,
     "metadata": {},
     "output_type": "execute_result"
    }
   ],
   "source": [
    "def solve_bp_search(weights: list):\n",
    "    optimal = solve_bp_evaluation(weights)\n",
    "    print(optimal)\n",
    "    binpack = [0] * len(weights)\n",
    "    bins_w = [0] \n",
    "    for i in range(len(weights)):\n",
    "        print(\"i =\", i)\n",
    "        for j in range(len(bins_w)):\n",
    "            if weights[i] + bins_w[j] <= 1:\n",
    "                if solve_bp_evaluation(bins_w + [weights[i]]) == solve_bp_evaluation(bins_w[:j] + [bins_w[j] + weights[i]] + bins_w[j+1:]):\n",
    "                    bins_w[j] += weights[i]\n",
    "                    binpack[i] = j + 1\n",
    "                    break\n",
    "            elif weights[i] + bins_w[j] > 1 and j == len(bins_w) - 1:\n",
    "                bins_w = bins_w + [weights[i]]\n",
    "                binpack[i] = len(bins_w)\n",
    "    return binpack\n",
    "solve_bp_search([0.1, 0.2, 0.3, 0.5, 0.6, 0.7, 0.8, 0.9, 0.95])"
   ]
  }
 ],
 "metadata": {
  "kernelspec": {
   "display_name": "Python 3",
   "language": "python",
   "name": "python3"
  },
  "language_info": {
   "codemirror_mode": {
    "name": "ipython",
    "version": 3
   },
   "file_extension": ".py",
   "mimetype": "text/x-python",
   "name": "python",
   "nbconvert_exporter": "python",
   "pygments_lexer": "ipython3",
   "version": "3.5.1"
  }
 },
 "nbformat": 4,
 "nbformat_minor": 0
}
